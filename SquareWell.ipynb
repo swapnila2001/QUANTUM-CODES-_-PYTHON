{
 "cells": [
  {
   "cell_type": "markdown",
   "metadata": {},
   "source": [
    "## Square well bound states\n",
    "\n",
    "Let the potential be $-V_0$ between $x = -a$ and $x = a$ and zero elsewhere. \n",
    "\n",
    "Natural length scale, $l_0 = 2a$\n",
    "\n",
    "$x = l_0y$ and $V = E_0 U(y)$\n",
    "\n",
    "$$E_0 = \\frac{\\hbar^2}{2ml_0^2} = \\frac{\\hbar^2}{8ma^2}$$ \n",
    "And\n",
    "$$U(y) = \\begin{cases}\n",
    "\\frac{-V_0}{E_0} & |y| \\leq \\frac{1}{2} \\\\\n",
    "0 & |y| > \\frac{1}{2}\n",
    "\\end{cases}$$\n",
    "\n",
    "### Comparison with infinite square well \n",
    "For particle in a box with ground potential at $V_g$ (can be +ve or -ve) we have the following energy eigenvalues:\n",
    "$$E-V_g = \\frac{n^2\\pi^2\\hbar^2}{2ml_0^2} = n^2\\pi^2E_0$$\n",
    "\n",
    "$$\\frac{E-V_g}{E_0} = n^2\\pi^2$$\n",
    "Since $E/E_0 = e$ the dimensionless energy eigenvalues in our program and $V_g/E_0$ = $U(y)$ we have\n",
    "$$e = n^2\\pi^2 + U(y) = n^2\\pi^2 - V_0$$ \n",
    "Since $U(y) = -V_0$ in the finite square well"
   ]
  },
  {
   "cell_type": "code",
   "execution_count": 1,
   "metadata": {},
   "outputs": [],
   "source": [
    "import matplotlib.pyplot as plt\n",
    "import numpy as np\n",
    "from numpy import linalg as alg\n",
    "plt.style.use('seaborn-whitegrid')\n",
    "\n"
   ]
  },
  {
   "cell_type": "code",
   "execution_count": 2,
   "metadata": {},
   "outputs": [],
   "source": [
    "def Energies(V0):\n",
    "    ns = np.arange(1,10,1)\n",
    "    es = (ns**2)*np.pi**2 -V0\n",
    "    return es\n",
    "    "
   ]
  },
  {
   "cell_type": "code",
   "execution_count": 3,
   "metadata": {},
   "outputs": [],
   "source": [
    "def kro(i,j):\n",
    "    return 1 if i==j else 0\n",
    "\n",
    "def U(ys,i):\n",
    "    return -Umax if abs(ys[i])<=0.5 else 0 # \n",
    "\n",
    "def H_ele(i,j,dy,ys): \n",
    "    return (-kro(i+1,j) + 2*kro(i,j) -kro(i-1,j))/dy**2  + U(ys,i)*kro(i,j)"
   ]
  },
  {
   "cell_type": "code",
   "execution_count": 4,
   "metadata": {},
   "outputs": [
    {
     "name": "stdout",
     "output_type": "stream",
     "text": [
      "1000\n"
     ]
    }
   ],
   "source": [
    "dy = 0.01 # discretization of space\n",
    "y_lim = 5.0 # yspace half-width\n",
    "Umax = 10.0 # also equal to V0\n",
    "\n",
    "ys = np.arange(-y_lim,y_lim,dy) # space points\n",
    "N = len(ys)\n",
    "print(N)\n",
    "H = [[H_ele(i,j,dy,ys) for i in range(N)] for j in range(N)] # Hamiltonian N*N matrix\n",
    "#print(H)"
   ]
  },
  {
   "cell_type": "code",
   "execution_count": 5,
   "metadata": {},
   "outputs": [],
   "source": [
    "H_eigs, H_eigvs = alg.eig(H)\n",
    "H_eigvalues = np.sort(H_eigs) # sorted eigenvalues\n",
    "H_eigvectors = [] # to hold sorted eigenvectors\n",
    "\n",
    "# loop to arrange eigenvectors in corresponding order of sorted eigenvalues #\n",
    "for i in range(N):\n",
    "    for j in range(N):\n",
    "        if H_eigs[j] == H_eigvalues[i]:\n",
    "            H_eigvectors.append(H_eigvs[:,j])\n",
    "            continue"
   ]
  },
  {
   "cell_type": "code",
   "execution_count": 14,
   "metadata": {},
   "outputs": [
    {
     "data": {
      "text/plain": [
       "<matplotlib.legend.Legend at 0x7f4fdd4a6760>"
      ]
     },
     "execution_count": 14,
     "metadata": {},
     "output_type": "execute_result"
    },
    {
     "data": {
      "image/png": "[encoded data removed]",
      "text/plain": [
       "<Figure size 432x288 with 1 Axes>"
      ]
     },
     "metadata": {
      "needs_background": "light"
     },
     "output_type": "display_data"
    }
   ],
   "source": [
    "fig = plt.figure()\n",
    "ax = fig.add_subplot()\n",
    "ax.plot([-y_lim,-0.5,-0.5,0.5,0.5,y_lim],[0,0,-0.4,-0.4,0,0],label = 'square well potential')\n",
    "for i in range(0,1):\n",
    "    ax.plot(ys,H_eigvectors[i],label = 'Eigenvector:%d'%i)\n",
    "ax.legend()"
   ]
  },
  {
   "cell_type": "code",
   "execution_count": 7,
   "metadata": {},
   "outputs": [
    {
     "data": {
      "text/plain": [
       "-8.79611780463897e-14"
      ]
     },
     "execution_count": 7,
     "metadata": {},
     "output_type": "execute_result"
    }
   ],
   "source": [
    "psi = H_eigvectors[0]\n",
    "psi1 = H_eigvectors[1]\n",
    "np.dot(psi.conj().T, psi1)"
   ]
  },
  {
   "cell_type": "code",
   "execution_count": 8,
   "metadata": {},
   "outputs": [
    {
     "name": "stdout",
     "output_type": "stream",
     "text": [
      "[-6.49053107  0.09496287  0.48310431  0.96806685  1.90678894  2.7112986\n",
      "  4.21518445  5.32041743  7.3518301 ]\n"
     ]
    }
   ],
   "source": [
    "print(H_eigvalues[0:9])\n",
    "\n",
    "for i in range(len(H_eigvalues)):\n",
    "    if H_eigvalues[i]<=0 and H_eigvalues[i+1]>=0:\n",
    "        neg = i\n",
    "        break\n",
    "    else:\n",
    "        continue"
   ]
  },
  {
   "cell_type": "code",
   "execution_count": 9,
   "metadata": {},
   "outputs": [
    {
     "name": "stdout",
     "output_type": "stream",
     "text": [
      "[-1.30395599e-01  2.94784176e+01  7.88264396e+01  1.47913670e+02\n",
      "  2.36740110e+02  3.45305758e+02  4.73610616e+02  6.21654682e+02\n",
      "  7.89437956e+02]\n"
     ]
    }
   ],
   "source": [
    "E_infwell = Energies(Umax)\n",
    "print(E_infwell)"
   ]
  },
  {
   "cell_type": "code",
   "execution_count": 10,
   "metadata": {},
   "outputs": [
    {
     "data": {
      "text/plain": [
       "<matplotlib.legend.Legend at 0x7f4fdd59c160>"
      ]
     },
     "execution_count": 10,
     "metadata": {},
     "output_type": "execute_result"
    },
    {
     "data": {
      "image/png": "[encoded data removed]",
      "text/plain": [
       "<Figure size 720x720 with 1 Axes>"
      ]
     },
     "metadata": {},
     "output_type": "display_data"
    }
   ],
   "source": [
    "fig = plt.figure(figsize = (10,10))\n",
    "ax = fig.add_subplot()\n",
    "ax.plot([-y_lim,-0.5,-0.5,0.5,0.5,y_lim],[0,0,-Umax,-Umax,0,0],label = 'square well potential')\n",
    "for i in range(0,neg+1):\n",
    "    #ax.plot(ys,H_eigvectors[i],label = 'Eigenvector:%d'%i)\n",
    "    ax.plot([-y_lim, y_lim],[H_eigvalues[i],H_eigvalues[i]],color = 'black',linewidth = 0.5)\n",
    "ax.set(xlabel = 'y', ylabel = 'energy (dimensionless)', title = 'Eigenvectors, Eigenvalues of square well potential')\n",
    "ax.legend()  "
   ]
  },
  {
   "cell_type": "markdown",
   "metadata": {},
   "source": [
    "### Transcendental solution"
   ]
  },
  {
   "cell_type": "code",
   "execution_count": 11,
   "metadata": {},
   "outputs": [
    {
     "data": {
      "text/plain": [
       "(-0.4, 4.0)"
      ]
     },
     "execution_count": 11,
     "metadata": {},
     "output_type": "execute_result"
    },
    {
     "data": {
      "image/png": "[encoded data removed]",
      "text/plain": [
       "<Figure size 432x288 with 1 Axes>"
      ]
     },
     "metadata": {
      "needs_background": "light"
     },
     "output_type": "display_data"
    }
   ],
   "source": [
    "%matplotlib inline\n",
    "\n",
    "z0 = np.sqrt(Umax/4)\n",
    "etas = np.arange(0,z0,0.0001)\n",
    "zis = etas*np.tan(etas)\n",
    "\n",
    "zis_circ = np.sqrt(z0**2-etas**2)\n",
    "zis_circ2 = -np.sqrt(z0**2-etas**2)\n",
    "\n",
    "plt.plot(etas,zis)\n",
    "plt.plot(etas,zis_circ2)\n",
    "plt.plot(etas,zis_circ)\n",
    "plt.ylim(-0.4,4)\n",
    "#plt.axis('equal')"
   ]
  },
  {
   "cell_type": "code",
   "execution_count": 12,
   "metadata": {},
   "outputs": [
    {
     "name": "stdout",
     "output_type": "stream",
     "text": [
      "6.4258194064000005\n",
      "0.13561100851600003\n"
     ]
    }
   ],
   "source": [
    "b1 = (1.26746**2 * 4)\n",
    "print(b1)\n",
    "b2 = (0.184127**2 * 4)\n",
    "print(b2)"
   ]
  },
  {
   "cell_type": "code",
   "execution_count": null,
   "metadata": {},
   "outputs": [],
   "source": []
  }
 ],
 "metadata": {
  "kernelspec": {
   "display_name": "Python 3",
   "language": "python",
   "name": "python3"
  },
  "language_info": {
   "codemirror_mode": {
    "name": "ipython",
    "version": 3
   },
   "file_extension": ".py",
   "mimetype": "text/x-python",
   "name": "python",
   "nbconvert_exporter": "python",
   "pygments_lexer": "ipython3",
   "version": "3.8.3"
  }
 },
 "nbformat": 4,
 "nbformat_minor": 4
}
