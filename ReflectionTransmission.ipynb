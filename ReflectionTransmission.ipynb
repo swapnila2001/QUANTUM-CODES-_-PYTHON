{
 "cells": [
  {
   "cell_type": "markdown",
   "metadata": {},
   "source": [
    "## Time Evolution of a Gaussian wavepacket in infinite well\n",
    "\n",
    "Since \n",
    "$$\\phi(0) = \\sum_{i}c_i\\phi_{\\epsilon_i}$$\n",
    "We get\n",
    "$$c_i = \\phi_{\\epsilon_i}^{\\dagger}\\ \\phi(0)$$\n",
    "From here we compute all the coefficients $c_i$\n",
    "Then we have:\n",
    "$$\\phi(\\tau) = \\sum_{i} c_i e^{-i\\epsilon_i \\tau} \\phi_{\\epsilon_i}$$\n",
    "\n",
    "### Gaussian wavepacket\n",
    "\n",
    "At time $t = 0$\n",
    "$$\\psi(x) = \\bigg(\\frac{1}{\\pi \\Delta^2}\\bigg)^{1/4} e^{-(x-x_0)^2/2\\Delta^2}e^{ip_0x/\\hbar}$$\n",
    "Here $\\Delta$ is the standard deviation or the spread in position of the particle.\n",
    "\n",
    "With $\\Delta = l_0$ the natural length scale and $\\hbar/\\Delta$ as natural momentum scale we get:\n",
    "\n",
    "$$\\phi(\\tilde{x}) = \\bigg(\\frac{1}{\\pi \\Delta^2}\\bigg)^{1/4}e^{-(\\tilde{x} - \\tilde{x_0})^2/2}e^{i\\tilde{p_0}\\tilde{x}}$$\n",
    "\n",
    "Still it has $[L]^{-1/2}$ dimensions so multiplying by $\\sqrt{\\Delta}$. "
   ]
  },
  {
   "cell_type": "code",
   "execution_count": 55,
   "metadata": {},
   "outputs": [],
   "source": [
    "import matplotlib.pyplot as plt\n",
    "import numpy as np\n",
    "from numpy import linalg as alg\n",
    "plt.style.use('seaborn-whitegrid')"
   ]
  },
  {
   "cell_type": "code",
   "execution_count": 56,
   "metadata": {},
   "outputs": [],
   "source": [
    "def kro(i,j):\n",
    "    return 1 if i==j else 0\n",
    "\n",
    "def U(ys,i):\n",
    "    return 0 if abs(ys[i])>=0.5 else -V0\n",
    "\n",
    "def H_ele(i,j,dy,ys): \n",
    "    return (-kro(i+1,j) + 2*kro(i,j) -kro(i-1,j))/dy**2  + U(ys,i)*kro(i,j)"
   ]
  },
  {
   "cell_type": "code",
   "execution_count": 57,
   "metadata": {},
   "outputs": [],
   "source": [
    "def phi0(ys,p0):\n",
    "    return (1/pow(np.pi*(a**2),0.25))*np.exp(-((ys-b)**2)/(2.0*a**2) - 1j*p0*ys)"
   ]
  },
  {
   "cell_type": "code",
   "execution_count": 58,
   "metadata": {},
   "outputs": [],
   "source": [
    "def RT(Prob_t):\n",
    "    totalP = sum(Prob_t)\n",
    "    R = 0.\n",
    "    T = 0.\n",
    "    for i in range(N):\n",
    "        if ys[i]<=0.5:\n",
    "            R+= Prob_t[i] \n",
    "            continue\n",
    "    \n",
    "        elif ys[i]>=0.5:\n",
    "            T += Prob_t[i]\n",
    "            continue\n",
    "        \n",
    "        else:\n",
    "            continue\n",
    "        \n",
    "    R /= totalP\n",
    "    T /= totalP\n",
    "    return [R,T]"
   ]
  },
  {
   "cell_type": "code",
   "execution_count": 59,
   "metadata": {},
   "outputs": [
    {
     "name": "stdout",
     "output_type": "stream",
     "text": [
      "600\n"
     ]
    }
   ],
   "source": [
    "a = 1.0 ## natural length scale - std deviation of wavepacket at t=0\n",
    "b = -7.0 ## position of centre of the packet at t=0\n",
    "p0s = np.linspace(9,11,21) ## central momentum \n",
    "V0 = 100 ## in units of natural energy scale\n",
    "\n",
    "dy = 0.1 # discretization of space \n",
    "y_lim = 30.0 # yspace half-width\n",
    "\n",
    "ys = np.arange(-y_lim,y_lim,dy) # space points\n",
    "N = len(ys)\n",
    "print(N)\n",
    "H = [[H_ele(i,j,dy,ys) for i in range(N)] for j in range(N)] # Hamiltonian N*N matrix\n",
    "#print(H)"
   ]
  },
  {
   "cell_type": "code",
   "execution_count": 60,
   "metadata": {},
   "outputs": [],
   "source": [
    "H_eigs, H_eigvs = alg.eig(H)\n",
    "\n",
    "H_eigvalues = np.sort(H_eigs) # sorted eigenvalues\n",
    "H_eigvectors = np.zeros((N,N))# to hold sorted eigenvectors\n",
    "\n",
    "# loop to arrange eigenvectors in corresponding order of sorted eigenvalues #\n",
    "for i in range(N):\n",
    "    for j in range(N):\n",
    "        if H_eigs[j] == H_eigvalues[i]:\n",
    "            H_eigvectors[:,i] = H_eigvs[:,j]\n",
    "            continue"
   ]
  },
  {
   "cell_type": "code",
   "execution_count": 61,
   "metadata": {},
   "outputs": [],
   "source": [
    "RTs = [] # to store all R and T\n",
    "\n",
    "for p0 in p0s: # runs for every value of momentum in the list and appends R,T\n",
    "    \n",
    "    Phi0 = np.sqrt(dy)*phi0(ys,p0) ## values of initial wavepacket at all lattice points\n",
    "    ci_s = [np.vdot(Phi0, H_eigvectors[:,i]) for i in range(N)] # coefficients\n",
    "\n",
    "    def Phi_tau(tau): # computes the wavepacket at time tau\n",
    "        summation = np.zeros((N), dtype = 'complex')\n",
    "        for i in range(N):\n",
    "            summation += ci_s[i]*np.exp(-1j*H_eigvalues[i]*tau)*H_eigvectors[:,i]\n",
    "        return summation\n",
    "\n",
    "    Prob_t = np.abs(Phi_tau(0.8))**2\n",
    "    RTs.append(RT(Prob_t))"
   ]
  },
  {
   "cell_type": "code",
   "execution_count": 62,
   "metadata": {},
   "outputs": [
    {
     "data": {
      "text/plain": [
       "<matplotlib.legend.Legend at 0x7f51e11742e0>"
      ]
     },
     "execution_count": 62,
     "metadata": {},
     "output_type": "execute_result"
    },
    {
     "data": {
      "image/png": "[encoded data removed]",
      "text/plain": [
       "<Figure size 432x288 with 1 Axes>"
      ]
     },
     "metadata": {},
     "output_type": "display_data"
    }
   ],
   "source": [
    "fig = plt.figure()\n",
    "ax = fig.add_subplot()\n",
    "\n",
    "for i in range(0,2):\n",
    "    ax.plot(ys,H_eigvectors[:,i],label = 'Eigenvector:%d'%i)\n",
    "ax.legend()"
   ]
  },
  {
   "cell_type": "markdown",
   "metadata": {},
   "source": [
    "### Reflection and Transmission Coefficients"
   ]
  },
  {
   "cell_type": "code",
   "execution_count": 63,
   "metadata": {},
   "outputs": [
    {
     "data": {
      "text/plain": [
       "<matplotlib.legend.Legend at 0x7f51e119df40>"
      ]
     },
     "execution_count": 63,
     "metadata": {},
     "output_type": "execute_result"
    },
    {
     "data": {
      "image/png": "[encoded data removed]",
      "text/plain": [
       "<Figure size 432x288 with 1 Axes>"
      ]
     },
     "metadata": {},
     "output_type": "display_data"
    }
   ],
   "source": [
    "fig = plt.figure()\n",
    "ax = fig.add_subplot()\n",
    "\n",
    "ax.plot(p0s,[RTs[i][0] for i in range(len(p0s))],label = 'T')\n",
    "ax.plot(p0s,[RTs[i][1] for i in range(len(p0s))],label = 'R')\n",
    "    \n",
    "ax.set(title = 'Reflection coefficient vs momentum', xlabel = 'Momentum',ylabel = 'R/T coefficients')\n",
    "ax.legend()"
   ]
  },
  {
   "cell_type": "code",
   "execution_count": null,
   "metadata": {},
   "outputs": [],
   "source": []
  }
 ],
 "metadata": {
  "kernelspec": {
   "display_name": "Python 3",
   "language": "python",
   "name": "python3"
  },
  "language_info": {
   "codemirror_mode": {
    "name": "ipython",
    "version": 3
   },
   "file_extension": ".py",
   "mimetype": "text/x-python",
   "name": "python",
   "nbconvert_exporter": "python",
   "pygments_lexer": "ipython3",
   "version": "3.8.3"
  }
 },
 "nbformat": 4,
 "nbformat_minor": 4
}
